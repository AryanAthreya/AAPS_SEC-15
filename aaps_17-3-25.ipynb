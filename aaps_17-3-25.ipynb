{
 "cells": [
  {
   "cell_type": "markdown",
   "metadata": {},
   "source": [
    "ARRAY:-\n",
    "1.Largest Element in an Array\n",
    "2.Leaders In an array\n",
    "3.2Sum\n",
    "4.Second Largest Element in an Array without sorting\n",
    "5.Linear Search"
   ]
  },
  {
   "cell_type": "markdown",
   "metadata": {},
   "source": [
    "Que 1 . Largest element in an Array"
   ]
  },
  {
   "cell_type": "code",
   "execution_count": 4,
   "metadata": {},
   "outputs": [
    {
     "name": "stdout",
     "output_type": "stream",
     "text": [
      "52\n"
     ]
    }
   ],
   "source": [
    "def Largest():\n",
    "    arr = [21, 23, 14, 52, 24]\n",
    "    biggest = arr[0]  # Initialize with the first element\n",
    "    for i in arr:  # Iterate through each element\n",
    "        if i > biggest:  # Update if a larger element is found\n",
    "            biggest = i  \n",
    "    return biggest\n",
    "print(Largest())  # Output: 52\n",
    "           "
   ]
  },
  {
   "cell_type": "markdown",
   "metadata": {},
   "source": [
    "Que 2. Leader in an array"
   ]
  },
  {
   "cell_type": "code",
   "execution_count": 1,
   "metadata": {},
   "outputs": [
    {
     "name": "stdout",
     "output_type": "stream",
     "text": [
      "the leaders are: [10, 8, 4]\n"
     ]
    }
   ],
   "source": [
    "def Array_leader():\n",
    "    Array=[10,5,8,2,4]\n",
    "    n=len(Array)\n",
    "    leaders_output=[]#output list\n",
    "    for i in range(n):\n",
    "        is_leader=True#Assuming the current element is leader\n",
    "        # compare to the elemetns to the right\n",
    "        for j in range(i+1,n):\n",
    "            if Array[i]<Array[j]:\n",
    "                is_leader=False\n",
    "                break\n",
    "        if is_leader:\n",
    "            leaders_output.append(Array[i])#add leader to list\n",
    "    print(\"the leaders are:\",leaders_output)\n",
    "# function calling\n",
    "Array_leader()"
   ]
  },
  {
   "cell_type": "markdown",
   "metadata": {},
   "source": [
    "Que 3. 2 sum"
   ]
  },
  {
   "cell_type": "code",
   "execution_count": 3,
   "metadata": {},
   "outputs": [
    {
     "name": "stdout",
     "output_type": "stream",
     "text": [
      "[2, 4]\n"
     ]
    }
   ],
   "source": [
    "# brute force approach:\n",
    "class Solution:\n",
    "    def twoSum(self, nums: list[int], target: int) -> list[int]:\n",
    "        for i in range(len(nums)):\n",
    "            for j in range(i + 1, len(nums)):\n",
    "                if nums[i] + nums[j] == target:\n",
    "                    return [i, j]\n",
    "        return []\n",
    "    \n",
    "numbers = [2,6,5,8,11]\n",
    "target = 16\n",
    "solution = Solution()\n",
    "result = solution.twoSum(numbers, target)\n",
    "print(result)"
   ]
  },
  {
   "cell_type": "markdown",
   "metadata": {},
   "source": [
    "Que 4. Second largest element in array without sorting"
   ]
  },
  {
   "cell_type": "code",
   "execution_count": 7,
   "metadata": {},
   "outputs": [
    {
     "name": "stdout",
     "output_type": "stream",
     "text": [
      "24\n"
     ]
    }
   ],
   "source": [
    "def sec_largest():\n",
    "    arr = [21, 23, 14, 52, 24]\n",
    "    if len(arr)<2:\n",
    "        return \"should have at least two elements\"\n",
    "    largest = second_largest = float('-inf')  # Initialize as the smallest possible value\n",
    "\n",
    "    for num in arr:\n",
    "        if num>largest:\n",
    "            second_largest = largest  # Update second largest before updating the largest\n",
    "            largest = num\n",
    "        elif num > second_largest and num != largest:\n",
    "            second_largest = num\n",
    "    if second_largest == float('-inf'):\n",
    "        return \"No second largest element\"\n",
    "    return second_largest\n",
    "print(sec_largest())\n"
   ]
  },
  {
   "cell_type": "markdown",
   "metadata": {},
   "source": [
    "Que5. Linear search"
   ]
  },
  {
   "cell_type": "code",
   "execution_count": 8,
   "metadata": {},
   "outputs": [
    {
     "name": "stdout",
     "output_type": "stream",
     "text": [
      "Element found at index: 2\n"
     ]
    }
   ],
   "source": [
    "def linear_search(arr, target):\n",
    "    for i in range(len(arr)):#Traverse the array\n",
    "        if arr[i] == target:\n",
    "            return i\n",
    "    return -1# Return -1 if not found\n",
    "arr=[10, 25, 30, 45, 60]\n",
    "target=30\n",
    "result=linear_search(arr, target)\n",
    "print(\"Element found at index:\", result)"
   ]
  }
 ],
 "metadata": {
  "kernelspec": {
   "display_name": "Python 3",
   "language": "python",
   "name": "python3"
  },
  "language_info": {
   "codemirror_mode": {
    "name": "ipython",
    "version": 3
   },
   "file_extension": ".py",
   "mimetype": "text/x-python",
   "name": "python",
   "nbconvert_exporter": "python",
   "pygments_lexer": "ipython3",
   "version": "3.10.0"
  }
 },
 "nbformat": 4,
 "nbformat_minor": 2
}
