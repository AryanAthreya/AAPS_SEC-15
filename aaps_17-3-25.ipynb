{
 "cells": [
  {
   "cell_type": "markdown",
   "metadata": {},
   "source": [
    "ARRAY:-\n",
    "1.Largest Element in an Array\n",
    "2.Leaders In an array\n",
    "3.2Sum\n",
    "4.Second Largest Element in an Array without sorting\n",
    "5.Linear Search"
   ]
  },
  {
   "cell_type": "markdown",
   "metadata": {},
   "source": [
    "Que 1 . Largest element in an Array"
   ]
  },
  {
   "cell_type": "code",
   "execution_count": 4,
   "metadata": {},
   "outputs": [
    {
     "name": "stdout",
     "output_type": "stream",
     "text": [
      "52\n"
     ]
    }
   ],
   "source": [
    "def Largest():\n",
    "    arr = [21, 23, 14, 52, 24]\n",
    "    biggest = arr[0]  # Initialize with the first element\n",
    "    for i in arr:  # Iterate through each element\n",
    "        if i > biggest:  # Update if a larger element is found\n",
    "            biggest = i  \n",
    "    return biggest\n",
    "print(Largest())  # Output: 52\n",
    "           "
   ]
  },
  {
   "cell_type": "markdown",
   "metadata": {},
   "source": [
    "Que 2. Leader in an array"
   ]
  },
  {
   "cell_type": "code",
   "execution_count": null,
   "metadata": {},
   "outputs": [],
   "source": [
    "def leader():\n",
    "    arr=[23,14,52,14,345,3,45]\n",
    "    for i in range(arr):\n",
    "        for j in range(arr):\n",
    "            if "
   ]
  },
  {
   "cell_type": "markdown",
   "metadata": {},
   "source": [
    "Que 3. 2 sum"
   ]
  },
  {
   "cell_type": "code",
   "execution_count": null,
   "metadata": {},
   "outputs": [],
   "source": [
    "def Two_Sum():\n",
    "    "
   ]
  },
  {
   "cell_type": "markdown",
   "metadata": {},
   "source": []
  }
 ],
 "metadata": {
  "kernelspec": {
   "display_name": "Python 3",
   "language": "python",
   "name": "python3"
  },
  "language_info": {
   "codemirror_mode": {
    "name": "ipython",
    "version": 3
   },
   "file_extension": ".py",
   "mimetype": "text/x-python",
   "name": "python",
   "nbconvert_exporter": "python",
   "pygments_lexer": "ipython3",
   "version": "3.10.0"
  }
 },
 "nbformat": 4,
 "nbformat_minor": 2
}
